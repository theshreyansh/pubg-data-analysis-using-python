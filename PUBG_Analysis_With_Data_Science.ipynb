{
 "cells": [
  {
   "cell_type": "code",
   "execution_count": null,
   "metadata": {
    "colab": {},
    "colab_type": "code",
    "id": "AytDomFE_z2I"
   },
   "outputs": [],
   "source": [
    "# 1 Load Data\n",
    "!wget https://www.dropbox.com/s/kqu004pn2xpg0tr/train_V2.csv\n",
    "!wget https://www.dropbox.com/s/5rl09pble4g6dk1/test_V2.csv"
   ]
  },
  {
   "cell_type": "code",
   "execution_count": null,
   "metadata": {
    "colab": {},
    "colab_type": "code",
    "id": "gsTqg6oJAnLF"
   },
   "outputs": [],
   "source": [
    "# 2 Import the libraries\n",
    "import pandas as pd\n",
    "import numpy as np\n",
    "import matplotlib.pyplot as plt\n",
    "import seaborn as sns\n",
    "import itertools\n",
    "import gc\n",
    "import os\n",
    "import sys\n",
    "%matplotlib inline\n",
    "from sklearn import metrics\n",
    "from sklearn.model_selection import train_test_split\n",
    "from sklearn.linear_model import LogisticRegression,LinearRegression"
   ]
  },
  {
   "cell_type": "code",
   "execution_count": 4,
   "metadata": {
    "colab": {},
    "colab_type": "code",
    "id": "uoRY5mIVAt3b"
   },
   "outputs": [],
   "source": [
    "# 3 Data Cleaning - Reduce size - As the amount of dataset is too big, we need to use a memory saving function which will help us to reduce the memory usage\n",
    "def reduce_mem_usage(df):\n",
    "    \"\"\" iterate through all the columns of a dataframe and modify the data type\n",
    "        to reduce memory usage.\n",
    "    \"\"\"\n",
    "    start_mem = df.memory_usage().sum() / 1024**2\n",
    "    \n",
    "    for col in df.columns:\n",
    "        col_type = df[col].dtype\n",
    "        \n",
    "        if col_type != object:\n",
    "            c_min = df[col].min()\n",
    "            c_max = df[col].max()\n",
    "            if str(col_type)[:3] == 'int':\n",
    "                if c_min > np.iinfo(np.int8).min and c_max < np.iinfo(np.int8).max:\n",
    "                    df[col] = df[col].astype(np.int8)\n",
    "                elif c_min > np.iinfo(np.int16).min and c_max < np.iinfo(np.int16).max:\n",
    "                    df[col] = df[col].astype(np.int16)\n",
    "                elif c_min > np.iinfo(np.int32).min and c_max < np.iinfo(np.int32).max:\n",
    "                    df[col] = df[col].astype(np.int32)\n",
    "                elif c_min > np.iinfo(np.int64).min and c_max < np.iinfo(np.int64).max:\n",
    "                    df[col] = df[col].astype(np.int64)  \n",
    "            else:\n",
    "                #if c_min > np.finfo(np.float16).min and c_max < np.finfo(np.float16).max:\n",
    "                #    df[col] = df[col].astype(np.float16)\n",
    "                #el\n",
    "                if c_min > np.finfo(np.float32).min and c_max < np.finfo(np.float32).max:\n",
    "                    df[col] = df[col].astype(np.float32)\n",
    "                else:\n",
    "                    df[col] = df[col].astype(np.float64)\n",
    "        #else:\n",
    "            #df[col] = df[col].astype('category')\n",
    " \n",
    "    end_mem = df.memory_usage().sum() / 1024**2\n",
    "    print('Memory usage of dataframe is {:.2f} MB --> {:.2f} MB (Decreased by {:.1f}%)'.format(\n",
    "        start_mem, end_mem, 100 * (start_mem - end_mem) / start_mem))\n",
    "    return df"
   ]
  },
  {
   "cell_type": "code",
   "execution_count": null,
   "metadata": {
    "colab": {},
    "colab_type": "code",
    "id": "VXpna4r-A04h"
   },
   "outputs": [],
   "source": [
    "train_data=pd.read_csv(\"train_V2.csv\")\n",
    "train_data= reduce_mem_usage(train_data)"
   ]
  },
  {
   "cell_type": "code",
   "execution_count": null,
   "metadata": {
    "colab": {},
    "colab_type": "code",
    "id": "vCJDxB0lBAAs"
   },
   "outputs": [],
   "source": [
    "test_data=pd.read_csv(\"/content/test_V2.csv\")\n",
    "test_data= reduce_mem_usage(test_data)"
   ]
  },
  {
   "cell_type": "code",
   "execution_count": null,
   "metadata": {
    "colab": {},
    "colab_type": "code",
    "id": "U3OLp9jEBGmS"
   },
   "outputs": [],
   "source": [
    "train_data.head()"
   ]
  },
  {
   "cell_type": "code",
   "execution_count": null,
   "metadata": {
    "colab": {},
    "colab_type": "code",
    "id": "P3QC-8WJBL2P"
   },
   "outputs": [],
   "source": [
    "test_data.head()"
   ]
  },
  {
   "cell_type": "code",
   "execution_count": null,
   "metadata": {
    "colab": {},
    "colab_type": "code",
    "id": "gmHQaW8EBN6p"
   },
   "outputs": [],
   "source": [
    "# 3 Data cleaning - Check if any 'null' values\n",
    "train_data.isna().any()"
   ]
  },
  {
   "cell_type": "code",
   "execution_count": null,
   "metadata": {
    "colab": {},
    "colab_type": "code",
    "id": "3u5HkafBCg_Y"
   },
   "outputs": [],
   "source": [
    "# Get the percentage for each column for null values\n",
    "null_columns=pd.DataFrame({'Columns':train_data.isna().sum().index,'No. Null values':train_data.isna().sum().values,'Percentage':train_data.isna().sum().values/train_data.shape[0]})\n",
    "print(null_columns)"
   ]
  },
  {
   "cell_type": "code",
   "execution_count": null,
   "metadata": {
    "colab": {},
    "colab_type": "code",
    "id": "l0itvRQiCnPG"
   },
   "outputs": [],
   "source": [
    "# 4 Exploratory Data Analysis\n",
    "train_data.describe()"
   ]
  },
  {
   "cell_type": "code",
   "execution_count": null,
   "metadata": {
    "colab": {},
    "colab_type": "code",
    "id": "BdL-xeH7DJLk"
   },
   "outputs": [],
   "source": [
    "# 4 Exploratory Data Analysis - Find the unique id, unique group id and match id \n",
    "print('unique Id=',train_data['Id'].nunique())\n",
    "print('unique groupId=',train_data['groupId'].nunique())\n",
    "print('unique matchId=',train_data['matchId'].nunique())"
   ]
  },
  {
   "cell_type": "code",
   "execution_count": null,
   "metadata": {
    "colab": {},
    "colab_type": "code",
    "id": "ks42zMeEDggh"
   },
   "outputs": [],
   "source": [
    "# 4 Exploratory Data Analysis - game modes in the game\n",
    "train_data.groupby([\"matchType\"]).count()"
   ]
  },
  {
   "cell_type": "code",
   "execution_count": null,
   "metadata": {
    "colab": {},
    "colab_type": "code",
    "id": "7px6alPlEeZa"
   },
   "outputs": [],
   "source": [
    "# 4 Exploratory Data Analysis - Ideally matchtype should be three types only 1.Single 2.Duo 3.Squad but we find more in data. We need to address only three types\n",
    "fig, ax = plt.subplots(1, 2, figsize=(12, 4))\n",
    "train_data.groupby('matchId')['matchType'].first().value_counts().plot.bar()"
   ]
  },
  {
   "cell_type": "code",
   "execution_count": null,
   "metadata": {
    "colab": {},
    "colab_type": "code",
    "id": "fyux1RVjEktn"
   },
   "outputs": [],
   "source": [
    "# 4 Exploratory Data Analysis - new_train_data = data with only three matchtype\n",
    "new_train_data=train_data\n",
    "def mapthematch(data):\n",
    "  mapping = lambda y: 'solo' if ('solo' in y) else 'duo' if('duo' in y) or ('crash' in y) else 'squad'\n",
    "  data['matchType'] = data['matchType'].apply(mapping)\n",
    "  return(new_train_data)\n",
    "data=mapthematch(new_train_data)\n",
    "data.groupby('matchId')['matchType'].first().value_counts().plot.bar()"
   ]
  },
  {
   "cell_type": "code",
   "execution_count": null,
   "metadata": {
    "colab": {},
    "colab_type": "code",
    "id": "_TXHwqWsMMWV"
   },
   "outputs": [],
   "source": [
    "# 4 Exploratory Data Analysis - Find the Illegal match, WinPlaceperc is null and we will drop the '2744604' column\n",
    "data[data['winPlacePerc'].isnull()]"
   ]
  },
  {
   "cell_type": "code",
   "execution_count": 26,
   "metadata": {
    "colab": {},
    "colab_type": "code",
    "id": "pT0cKPA0Mjc_"
   },
   "outputs": [],
   "source": [
    "data.drop(2744604, inplace=True)"
   ]
  },
  {
   "cell_type": "code",
   "execution_count": null,
   "metadata": {
    "colab": {},
    "colab_type": "code",
    "id": "_uGDGtTKM5Mf"
   },
   "outputs": [],
   "source": [
    "data['matchDuration'].hist(bins=50)"
   ]
  },
  {
   "cell_type": "code",
   "execution_count": null,
   "metadata": {
    "colab": {},
    "colab_type": "code",
    "id": "dGg5aUU9M-kW"
   },
   "outputs": [],
   "source": [
    "# 4 Exploratory Data Analysis - matchtype based teamkills\n",
    "d=data[['teamKills','matchType']]\n",
    "d.groupby('matchType').hist(bins=80)"
   ]
  },
  {
   "cell_type": "code",
   "execution_count": null,
   "metadata": {
    "colab": {},
    "colab_type": "code",
    "id": "WtFRBvAqOEyK"
   },
   "outputs": [],
   "source": [
    "# 4 Exploratory Data Analysis - Normalize the columns\n",
    "data['killsNormalization'] = data['kills']*((100-data['kills'])/100 + 1)\n",
    "data['damageDealtNormalization'] = data['damageDealt']*((100-data['damageDealt'])/100 + 1)\n",
    "data['maxPlaceNormalization'] = data['maxPlace']*((100-data['maxPlace'])/100 + 1)\n",
    "data['matchDurationNormalization'] = data['matchDuration']*((100-data['matchDuration'])/100 + 1)\n",
    "# Let’s compare the actual and normalized data:\n",
    "New_normalized_column = data[['Id','matchDuration','matchDurationNormalization','kills','killsNormalization','maxPlace','maxPlaceNormalization','damageDealt','damageDealtNormalization']]\n",
    "New_normalized_column.head()"
   ]
  },
  {
   "cell_type": "code",
   "execution_count": null,
   "metadata": {
    "colab": {},
    "colab_type": "code",
    "id": "ShohagRZPIdv"
   },
   "outputs": [],
   "source": [
    "# 5 Feature Engineering - Create new feature healsandboosts\n",
    "data['healsandboostsfeature'] = data['heals'] + data['boosts']\n",
    "data[['heals', 'boosts', 'healsandboostsfeature']].tail()"
   ]
  },
  {
   "cell_type": "code",
   "execution_count": null,
   "metadata": {
    "colab": {},
    "colab_type": "code",
    "id": "YvQGxTQXST_u"
   },
   "outputs": [],
   "source": [
    "# 5 Feature Engineering - Create new feature totalDistancetravelled\n",
    "data['totalDistancetravelled'] = data['rideDistance'] + data['walkDistance'] + data['swimDistance']\n",
    "data[['rideDistance', 'walkDistance', 'swimDistance','totalDistancetravelled']].tail()"
   ]
  },
  {
   "cell_type": "code",
   "execution_count": null,
   "metadata": {
    "colab": {},
    "colab_type": "code",
    "id": "_T1RETaZScta"
   },
   "outputs": [],
   "source": [
    "# 5 Feature Engineering - Create new feature headshot_rate\n",
    "data['headshot_rate'] = data['headshotKills'] / data['kills']\n",
    "data['headshot_rate'].head()"
   ]
  },
  {
   "cell_type": "code",
   "execution_count": 66,
   "metadata": {
    "colab": {},
    "colab_type": "code",
    "id": "BrkdEXBGTPNh"
   },
   "outputs": [],
   "source": [
    "# 6 Data Split - Now we will split our training data into two parts for: Train the model (80%) Test the model (20%) for validation purpose we will use test_v2.csv\n",
    "x=data[['killsNormalization', 'damageDealtNormalization','maxPlaceNormalization', 'matchDurationNormalization','healsandboostsfeature','totalDistancetravelled']]\n",
    "#drop the target variable\n",
    "y=data['winPlacePerc']\n",
    "xtrain, xtest, ytrain, ytest = train_test_split(x, y, test_size = 0.2, random_state = 42)"
   ]
  },
  {
   "cell_type": "code",
   "execution_count": 58,
   "metadata": {
    "colab": {},
    "colab_type": "code",
    "id": "tubtKxTYT43f"
   },
   "outputs": [],
   "source": [
    "linear=LinearRegression().fit(xtrain,ytrain)"
   ]
  },
  {
   "cell_type": "code",
   "execution_count": 61,
   "metadata": {
    "colab": {
     "base_uri": "https://localhost:8080/",
     "height": 51
    },
    "colab_type": "code",
    "id": "GMKE9h24T7a1",
    "outputId": "3a35cced-1709-4785-cb9f-e470fcbd331a"
   },
   "outputs": [
    {
     "data": {
      "text/plain": [
       "array([0.41503356, 0.78588353, 0.95530506, ..., 0.30601349, 0.37773769,\n",
       "       0.90921515])"
      ]
     },
     "execution_count": 61,
     "metadata": {
      "tags": []
     },
     "output_type": "execute_result"
    }
   ],
   "source": [
    "y_pred=linear.predict(xtest)\n",
    "y_pred"
   ]
  },
  {
   "cell_type": "code",
   "execution_count": 74,
   "metadata": {
    "colab": {
     "base_uri": "https://localhost:8080/",
     "height": 231
    },
    "colab_type": "code",
    "id": "ycviHCT9T9uU",
    "outputId": "c8b64488-9012-43bf-dcd9-88530833bb24"
   },
   "outputs": [
    {
     "ename": "NameError",
     "evalue": "ignored",
     "output_type": "error",
     "traceback": [
      "\u001b[0;31m---------------------------------------------------------------------------\u001b[0m",
      "\u001b[0;31mNameError\u001b[0m                                 Traceback (most recent call last)",
      "\u001b[0;32m<ipython-input-74-798fa805629f>\u001b[0m in \u001b[0;36m<module>\u001b[0;34m()\u001b[0m\n\u001b[0;32m----> 1\u001b[0;31m \u001b[0mdf1\u001b[0m \u001b[0;34m=\u001b[0m \u001b[0mdf\u001b[0m\u001b[0;34m.\u001b[0m\u001b[0mhead\u001b[0m\u001b[0;34m(\u001b[0m\u001b[0;36m25\u001b[0m\u001b[0;34m)\u001b[0m\u001b[0;34m\u001b[0m\u001b[0;34m\u001b[0m\u001b[0m\n\u001b[0m\u001b[1;32m      2\u001b[0m \u001b[0mdf1\u001b[0m\u001b[0;34m.\u001b[0m\u001b[0mplot\u001b[0m\u001b[0;34m(\u001b[0m\u001b[0mkind\u001b[0m\u001b[0;34m=\u001b[0m\u001b[0;34m'bar'\u001b[0m\u001b[0;34m,\u001b[0m\u001b[0mfigsize\u001b[0m\u001b[0;34m=\u001b[0m\u001b[0;34m(\u001b[0m\u001b[0;36m26\u001b[0m\u001b[0;34m,\u001b[0m\u001b[0;36m10\u001b[0m\u001b[0;34m)\u001b[0m\u001b[0;34m)\u001b[0m\u001b[0;34m\u001b[0m\u001b[0;34m\u001b[0m\u001b[0m\n\u001b[1;32m      3\u001b[0m \u001b[0mplt\u001b[0m\u001b[0;34m.\u001b[0m\u001b[0mgrid\u001b[0m\u001b[0;34m(\u001b[0m\u001b[0mwhich\u001b[0m\u001b[0;34m=\u001b[0m\u001b[0;34m'major'\u001b[0m\u001b[0;34m,\u001b[0m \u001b[0mlinestyle\u001b[0m\u001b[0;34m=\u001b[0m\u001b[0;34m'-'\u001b[0m\u001b[0;34m,\u001b[0m \u001b[0mlinewidth\u001b[0m\u001b[0;34m=\u001b[0m\u001b[0;34m'0.5'\u001b[0m\u001b[0;34m,\u001b[0m \u001b[0mcolor\u001b[0m\u001b[0;34m=\u001b[0m\u001b[0;34m'green'\u001b[0m\u001b[0;34m)\u001b[0m\u001b[0;34m\u001b[0m\u001b[0;34m\u001b[0m\u001b[0m\n\u001b[1;32m      4\u001b[0m \u001b[0mplt\u001b[0m\u001b[0;34m.\u001b[0m\u001b[0mgrid\u001b[0m\u001b[0;34m(\u001b[0m\u001b[0mwhich\u001b[0m\u001b[0;34m=\u001b[0m\u001b[0;34m'minor'\u001b[0m\u001b[0;34m,\u001b[0m \u001b[0mlinestyle\u001b[0m\u001b[0;34m=\u001b[0m\u001b[0;34m':'\u001b[0m\u001b[0;34m,\u001b[0m \u001b[0mlinewidth\u001b[0m\u001b[0;34m=\u001b[0m\u001b[0;34m'0.5'\u001b[0m\u001b[0;34m,\u001b[0m \u001b[0mcolor\u001b[0m\u001b[0;34m=\u001b[0m\u001b[0;34m'black'\u001b[0m\u001b[0;34m)\u001b[0m\u001b[0;34m\u001b[0m\u001b[0;34m\u001b[0m\u001b[0m\n\u001b[1;32m      5\u001b[0m \u001b[0mplt\u001b[0m\u001b[0;34m.\u001b[0m\u001b[0mshow\u001b[0m\u001b[0;34m(\u001b[0m\u001b[0;34m)\u001b[0m\u001b[0;34m\u001b[0m\u001b[0;34m\u001b[0m\u001b[0m\n",
      "\u001b[0;31mNameError\u001b[0m: name 'df' is not defined"
     ]
    }
   ],
   "source": [
    "df1 = df.head(25)\n",
    "df1.plot(kind='bar',figsize=(26,10))\n",
    "plt.grid(which='major', linestyle='-', linewidth='0.5', color='green')\n",
    "plt.grid(which='minor', linestyle=':', linewidth='0.5', color='black')\n",
    "plt.show()"
   ]
  },
  {
   "cell_type": "markdown",
   "metadata": {
    "colab_type": "text",
    "id": "79KY4bIvZv4L"
   },
   "source": []
  }
 ],
 "metadata": {
  "colab": {
   "authorship_tag": "ABX9TyNylU6ChasNaZWPIjYLyXaA",
   "collapsed_sections": [],
   "include_colab_link": true,
   "name": "PUBG Analysis With Data Science.ipynb",
   "provenance": []
  },
  "kernelspec": {
   "display_name": "Python 3",
   "language": "python",
   "name": "python3"
  },
  "language_info": {
   "codemirror_mode": {
    "name": "ipython",
    "version": 3
   },
   "file_extension": ".py",
   "mimetype": "text/x-python",
   "name": "python",
   "nbconvert_exporter": "python",
   "pygments_lexer": "ipython3",
   "version": "3.7.6"
  }
 },
 "nbformat": 4,
 "nbformat_minor": 1
}
